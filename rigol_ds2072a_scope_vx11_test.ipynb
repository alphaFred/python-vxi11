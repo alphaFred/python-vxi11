{
 "cells": [
  {
   "cell_type": "code",
   "execution_count": null,
   "metadata": {
    "collapsed": true
   },
   "outputs": [],
   "source": [
    "import vxi11\n",
    "scope = vxi11.Instrument('Rigol-DS2072A-Scope', 'inst0')"
   ]
  },
  {
   "cell_type": "code",
   "execution_count": null,
   "metadata": {
    "collapsed": false
   },
   "outputs": [],
   "source": [
    "# Query the current device information.\n",
    "idn = scope.ask('*IDN?').strip()\n",
    "print(\"\\n\\t\".join((\"{0}:\", \"Model Number: {1}\", \"Serial Number: {2}\", \"Software Version: {3}\")).\n",
    "      format(*idn.split(\",\")))"
   ]
  },
  {
   "cell_type": "markdown",
   "metadata": {},
   "source": [
    "# Cursor Commands"
   ]
  },
  {
   "cell_type": "code",
   "execution_count": null,
   "metadata": {
    "collapsed": false
   },
   "outputs": [],
   "source": [
    "# Query current cursor mode\n",
    "cur_mode = scope.ask(':CURSor:MODE?').strip()\n",
    "print(cur_mode)"
   ]
  },
  {
   "cell_type": "code",
   "execution_count": null,
   "metadata": {
    "collapsed": false
   },
   "outputs": [],
   "source": [
    "# Set cursor mode to Manual\n",
    "scope.write(':CURSor:MODE MANUAL')\n",
    "\n",
    "# Query current cursor mode\n",
    "cur_mode = scope.ask(':CURSor:MODE?').strip()\n",
    "print(cur_mode)"
   ]
  },
  {
   "cell_type": "code",
   "execution_count": null,
   "metadata": {
    "collapsed": false
   },
   "outputs": [],
   "source": [
    "# Query current horizontal position of Cursor A & B\n",
    "cx_a = scope.ask(':CURSor:MANual:CAX?')\n",
    "cx_b = scope.ask(':CURSor:MANual:CBX?')\n",
    "print(\"\\n\".join((\"Cursor-A x: {0} (0-699)\", \"Cursor-B x: {1} (0-699)\")).format(cx_a, cx_b))"
   ]
  },
  {
   "cell_type": "code",
   "execution_count": null,
   "metadata": {
    "collapsed": false
   },
   "outputs": [],
   "source": [
    "# Set current horizontal position of Cursor A & B to default\n",
    "scope.write(':CURSor:MANual:CAX 150')\n",
    "scope.write(':CURSor:MANual:CBX 550')\n",
    "\n",
    "# Query current horizontal position of Cursor A & B\n",
    "cx_a = scope.ask(':CURSor:MANual:CAX?')\n",
    "cx_b = scope.ask(':CURSor:MANual:CBX?')\n",
    "print(\"\\n\".join((\"Cursor-A x: {0} (0-699)\", \"Cursor-B x: {1} (0-699)\")).format(cx_a, cx_b))"
   ]
  },
  {
   "cell_type": "code",
   "execution_count": null,
   "metadata": {
    "collapsed": false
   },
   "outputs": [],
   "source": [
    "# Disable Manual cursor mode\n",
    "scope.write(':CURSor:MODE OFF')\n",
    "\n",
    "# Query current cursor mode\n",
    "cur_mode = scope.ask(':CURSor:MODE?').strip()\n",
    "print(cur_mode)"
   ]
  },
  {
   "cell_type": "markdown",
   "metadata": {},
   "source": [
    "# Timebase Commands"
   ]
  },
  {
   "cell_type": "code",
   "execution_count": null,
   "metadata": {
    "collapsed": false
   },
   "outputs": [],
   "source": [
    "tb_scale = scope.ask(':TIMebase:MAIN:SCALe?').strip()\n",
    "print(tb_scale + \" s/div\")"
   ]
  },
  {
   "cell_type": "markdown",
   "metadata": {},
   "source": [
    "# Channel Commands"
   ]
  },
  {
   "cell_type": "code",
   "execution_count": null,
   "metadata": {
    "collapsed": false
   },
   "outputs": [],
   "source": [
    "ch1_scale = scope.ask(':CHANnel1:SCALe?')\n",
    "ch2_scale = scope.ask(':CHANnel2:SCALe?')\n",
    "print(\"\\n\".join((\"CH1 {0} V/div\", \"CH2 {1} V/div\")).format(ch1_scale, ch2_scale))"
   ]
  },
  {
   "cell_type": "markdown",
   "metadata": {
    "collapsed": true
   },
   "source": [
    "# Measurement"
   ]
  },
  {
   "cell_type": "code",
   "execution_count": null,
   "metadata": {
    "collapsed": false
   },
   "outputs": [],
   "source": [
    "print(\"Signal source of current measurement: {0}\".format(scope.ask(':MEASure:SOURce?')))\n",
    "print(\"Frequency of current measurement: {0}Hz\".format(scope.ask(':MEASure:FREQuency? CHAN1')))\n",
    "print(\"Period of current measurement: {0}s\".format(scope.ask(':MEASure:PERiod? CHAN1')))\n",
    "print(\"Positive Pulse-width of current measurement: {0}s\".format(scope.ask(':MEASure:PWIDth? CHAN1')))"
   ]
  },
  {
   "cell_type": "code",
   "execution_count": null,
   "metadata": {
    "collapsed": false
   },
   "outputs": [],
   "source": [
    "scope.write(':WAVeform:SOUR CHAN1')\n",
    "scope.write(':WAVeform:MODE MAX')\n",
    "scope.write(':WAVeform:FORMat ASCii')\n",
    "\n",
    "raw_ascii_data = scope.ask(\":WAVeform:DATA?\")\n",
    "raw_data = raw_ascii_data.split(\",\")[:-2]\n",
    "float_data = [float(rd) for rd in raw_data]"
   ]
  },
  {
   "cell_type": "code",
   "execution_count": null,
   "metadata": {
    "collapsed": false
   },
   "outputs": [],
   "source": [
    "scope.write(':WAVeform:SOUR CHAN1')\n",
    "scope.write(':WAVeform:MODE MAX')"
   ]
  },
  {
   "cell_type": "code",
   "execution_count": null,
   "metadata": {
    "collapsed": false
   },
   "outputs": [],
   "source": [
    "scope.write(\":WAV:POIN:MODE RAW\")\n",
    "print(scope.ask(':WAVeform:POINts?'))\n",
    "scope.write(':WAVeform:FORMat ASCii')\n",
    "scope.timeout = 1000\n",
    "rawdata = scope.ask(\":WAV:DATA? CHAN1\")[10]"
   ]
  },
  {
   "cell_type": "code",
   "execution_count": null,
   "metadata": {
    "collapsed": true
   },
   "outputs": [],
   "source": []
  },
  {
   "cell_type": "code",
   "execution_count": null,
   "metadata": {
    "collapsed": false
   },
   "outputs": [],
   "source": [
    "scope.ask(':WAVeform:MODE?')"
   ]
  },
  {
   "cell_type": "code",
   "execution_count": null,
   "metadata": {
    "collapsed": false
   },
   "outputs": [],
   "source": [
    "scope.ask(':ACQuire:MDEPth?')"
   ]
  },
  {
   "cell_type": "code",
   "execution_count": null,
   "metadata": {
    "collapsed": false
   },
   "outputs": [],
   "source": [
    "scope.ask(':WAVeform:POINts?')"
   ]
  },
  {
   "cell_type": "code",
   "execution_count": null,
   "metadata": {
    "collapsed": false
   },
   "outputs": [],
   "source": [
    "len(float_data)"
   ]
  },
  {
   "cell_type": "code",
   "execution_count": null,
   "metadata": {
    "collapsed": true
   },
   "outputs": [],
   "source": [
    "import matplotlib.pyplot as plt\n",
    "print(len(float_data))\n",
    "\n",
    "plt.plot(float_data)\n",
    "plt.show()"
   ]
  }
 ],
 "metadata": {
  "kernelspec": {
   "display_name": "Python 3",
   "language": "python",
   "name": "python3"
  },
  "language_info": {
   "codemirror_mode": {
    "name": "ipython",
    "version": 3
   },
   "file_extension": ".py",
   "mimetype": "text/x-python",
   "name": "python",
   "nbconvert_exporter": "python",
   "pygments_lexer": "ipython3",
   "version": "3.5.2"
  }
 },
 "nbformat": 4,
 "nbformat_minor": 2
}
